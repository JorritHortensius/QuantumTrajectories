{
 "cells": [
  {
   "cell_type": "markdown",
   "metadata": {},
   "source": [
    "# Quantum Trajectories"
   ]
  },
  {
   "cell_type": "code",
   "execution_count": 1,
   "metadata": {
    "collapsed": true
   },
   "outputs": [],
   "source": [
    "#Import basic modules\n",
    "import numpy as np\n",
    "from scipy import linalg\n",
    "import matplotlib.pyplot as plt\n",
    "%matplotlib inline\n",
    "import time"
   ]
  },
  {
   "cell_type": "code",
   "execution_count": 2,
   "metadata": {
    "collapsed": true
   },
   "outputs": [],
   "source": [
    "#This block is needed to create homogeneous plots throughout the project\n",
    "fparams = {'axes.labelsize': 22,\n",
    "           'axes.titlesize': 25,\n",
    "           'axes.linewidth': 1.5,\n",
    "           'font.size': 16,\n",
    "           'legend.fontsize': 15,\n",
    "           'font.family': 'serif',\n",
    "           'font.serif': 'Computer Modern Roman',\n",
    "           'xtick.labelsize': 15,\n",
    "           'xtick.major.size': 5.5,\n",
    "           'xtick.major.width': 1.5,\n",
    "           'ytick.labelsize': 15,\n",
    "           'ytick.major.size': 5.5,\n",
    "           'ytick.major.width': 1.5,\n",
    "           'text.usetex': True,\n",
    "           'figure.autolayout': True}\n",
    "plt.rcParams.update(fparams)"
   ]
  },
  {
   "cell_type": "markdown",
   "metadata": {},
   "source": [
    "## Two level Jump operators"
   ]
  },
  {
   "cell_type": "markdown",
   "metadata": {},
   "source": [
    "Below is a function which calculates the time evolution for different types of jump-operators. It returns the density matrix, dipole moment and energy at each time step. "
   ]
  },
  {
   "cell_type": "code",
   "execution_count": 3,
   "metadata": {
    "collapsed": false
   },
   "outputs": [],
   "source": [
    "def two_level_jump(Jump_operator, omega = 1, gamma = 0.1, beta = 1, Nt = 1000, T2 = 10, dt = 0.01, N_ensembles = 1000, \n",
    "                  save = 'false'):\n",
    "    \"\"\"Calculate the time-evolution of the two level system for different types of jump-operators. Return the density matrix, \n",
    "    expectation value of dipole moment and expectation value of energy at each time step\n",
    "    \n",
    "    ------------\n",
    "    - Jump_operator: str\n",
    "    \n",
    "    Type should be one of:\n",
    "    'Transition'\n",
    "    'Phase Noise'\n",
    "    'Collision'\n",
    "    'Boltzmann'\n",
    "    \"\"\"\n",
    "    \n",
    "    t = np.linspace(0,Nt*dt,Nt)\n",
    "    Ns = N_ensembles\n",
    "    # Initalize wavefunction\n",
    "    psi = np.zeros((Nt,Ns,2),dtype = complex)\n",
    "    psi[0,:,:] = 2 ** (-.5) * np.ones((Ns,2))\n",
    "    rho = np.zeros((Nt,2,2),dtype = complex)\n",
    "    H0 = np.array([[0,0], [0, omega]], dtype= 'complex')\n",
    "    \n",
    "    # Define Hamiltonian and time evolution operator\n",
    "    if Jump_operator == 'Transition':\n",
    "        Heff = (omega - 1j * gamma * .5 ) * np.array([[0 , 0],[0 , 1]], dtype = complex)\n",
    "        Ueff = linalg.expm(- 1j * dt *Heff)\n",
    "    \n",
    "    elif (Jump_operator == 'Phase Noise'):\n",
    "        Heff = (omega) * np.array([[0 , 0],[0 , 1]], dtype = complex)\n",
    "        Ueff = linalg.expm(- 1j * dt *Heff)\n",
    "    \n",
    "    elif Jump_operator == 'Collision':\n",
    "        Heff = (omega) * np.array([[0 , 0],[0 , 1]], dtype = complex)\n",
    "        Ueff = linalg.expm(- 1j * dt *Heff)\n",
    "        gamma = 1/T2\n",
    "        \n",
    "    elif Jump_operator == 'Boltzmann':\n",
    "        b0 = 1/(1 + np.exp(-beta*omega))\n",
    "        b1 = 1 - b0\n",
    "        Heff = np.array([[-1j * gamma *.5 * b1 , 0],\n",
    "                         [0 , (omega - 1j * gamma * .5 * b0 )]], dtype = complex)\n",
    "        Ueff = linalg.expm(- 1j * dt *Heff)\n",
    "\n",
    "    #Define X operator\n",
    "    X = np.array([[0,1], [1,0]], dtype = complex)\n",
    "    Z = np.array([[1,0], [0, -1]], dtype = complex)\n",
    "    \n",
    "    for i in range(Nt-1):\n",
    "        dp = gamma * dt * np.absolute(psi[i,:,1]) ** 2\n",
    "        e = np.random.uniform(0,1,(Ns))\n",
    "\n",
    "        trans = np.where(e < dp)\n",
    "        no_trans = np.where(e >= dp)\n",
    "        \n",
    "        if Jump_operator == 'Transition':\n",
    "            # Transition to ground state\n",
    "            psi[i+1,trans,:] = np.array([1, 0], dtype = complex)\n",
    "\n",
    "            # Non unitary evolution\n",
    "            psi[i+1,no_trans,:] = np.einsum('ij,...j', Ueff, psi[i,no_trans,:])\n",
    "            \n",
    "        elif Jump_operator == 'Phase Noise':\n",
    "            #Unitary evolution\n",
    "            psi[i+1,:,:] = np.einsum('ij,...j', Ueff, psi[i,:,:])\n",
    "            \n",
    "            #Random phase noise\n",
    "            theta = np.sqrt(gamma * dt) * np.random.randn((Ns))\n",
    "            psi[i+1,:,1] = np.exp(1j * theta) * psi[i+1,:,1]\n",
    "        \n",
    "        elif Jump_operator == 'Collision':\n",
    "            # Transition to ground state\n",
    "            psi[i+1,trans,:] = np.einsum('ij, ...j', Z, psi[i, trans,:])\n",
    "\n",
    "            # Non unitary evolution\n",
    "            psi[i+1,no_trans,:] = np.einsum('ij,...j', Ueff, psi[i,no_trans,:])\n",
    "\n",
    "        else:\n",
    "            dp0 = gamma * b0 * dt * np.absolute(psi[i,:,1]) ** 2 \n",
    "            dp1 = gamma * b1 * dt * np.absolute(psi[i,:,0]) ** 2\n",
    "            dp = dp0 + dp1\n",
    "            e = np.random.uniform(0,1,(Ns))\n",
    "\n",
    "            # Randomly choose which transition is made (if e < dp)\n",
    "            e2 = np.random.uniform(0,1,(Ns))\n",
    "\n",
    "            trans0 = np.where(np.logical_and(e < dp, dp0/dp > e2))\n",
    "            trans1 = np.where(np.logical_and(e < dp, dp0/dp <= e2))\n",
    "            no_trans = np.where(e >= dp)\n",
    "\n",
    "            psi[i+1,trans0,:] = [1, 0]\n",
    "            psi[i+1,trans1,:] = [0, 1]\n",
    "\n",
    "            # Non unitary evolution\n",
    "            psi[i+1,no_trans,:] = np.einsum('ij,...j', Ueff, psi[i,no_trans,:])\n",
    "\n",
    "        \n",
    "        # Normalize the wave function after non-unitary evolution\n",
    "        psi[i+1,no_trans,0] /= linalg.norm(psi[i+1,no_trans,:], axis = 2)\n",
    "        psi[i+1,no_trans,1] /= linalg.norm(psi[i+1,no_trans,:], axis = 2)\n",
    "\n",
    "    \n",
    "    dipole = np.einsum('...i,ij,...j', np.conj(psi), X, psi)\n",
    "    energy = np.einsum('...i,ij,...j', np.conj(psi), H0, psi)/omega\n",
    "    rho[:,0,0] = np.mean(np.conj(psi[:,:,0])*psi[:,:,0],axis = 1)\n",
    "    rho[:,0,1] = np.mean(np.conj(psi[:,:,0])*psi[:,:,1],axis = 1)\n",
    "    rho[:,1,0] = np.mean(np.conj(psi[:,:,1])*psi[:,:,0],axis = 1)\n",
    "    rho[:,1,1] = np.mean(np.conj(psi[:,:,1])*psi[:,:,1],axis = 1)\n",
    "    \n",
    "\n",
    "    return rho, dipole, energy"
   ]
  },
  {
   "cell_type": "markdown",
   "metadata": {},
   "source": [
    "### Run simulations"
   ]
  },
  {
   "cell_type": "code",
   "execution_count": 48,
   "metadata": {
    "collapsed": false
   },
   "outputs": [
    {
     "name": "stderr",
     "output_type": "stream",
     "text": [
      "C:\\Users\\TU Delf SID\\Anaconda3\\lib\\site-packages\\numpy\\core\\numeric.py:474: ComplexWarning: Casting complex values to real discards the imaginary part\n",
      "  return array(a, dtype, copy=False, order=order)\n",
      "C:\\Users\\TU Delf SID\\Anaconda3\\lib\\site-packages\\matplotlib\\figure.py:1744: UserWarning: This figure includes Axes that are not compatible with tight_layout, so its results might be incorrect.\n",
      "  warnings.warn(\"This figure includes Axes that are not \"\n"
     ]
    },
    {
     "data": {
      "image/png": "[encoded data removed]",
      "text/plain": [
       "<matplotlib.figure.Figure at 0x21ae2866668>"
      ]
     },
     "metadata": {},
     "output_type": "display_data"
    },
    {
     "data": {
      "image/png": "[encoded data removed]",
      "text/plain": [
       "<matplotlib.figure.Figure at 0x21ae28472b0>"
      ]
     },
     "metadata": {},
     "output_type": "display_data"
    }
   ],
   "source": [
    "#Set parameters\n",
    "Nt = 10000\n",
    "dt = 0.01\n",
    "gamma = 1\n",
    "T2 = 10\n",
    "beta = 0.5\n",
    "\n",
    "rho1, dipole1, energy1 = two_level_jump(Jump_operator= 'Boltzmann', Nt = Nt, dt = dt, T2 = T2, beta = beta,\n",
    "                                        gamma=gamma, N_ensembles=1)\n",
    "rho1000, dipole1000, energy1000 = two_level_jump(Jump_operator='Boltzmann', Nt = Nt, dt = dt, T2 = T2, beta = beta,\n",
    "                                                 gamma=gamma, N_ensembles=1000)\n",
    "t = np.linspace(0,Nt*dt,Nt)\n",
    "\n",
    "# plt.figure()\n",
    "# plt.plot(abs(rho[:,0,0]), 'r')\n",
    "# plt.plot(abs(rho[:,1,1]), 'b')\n",
    "# plt.plot(np.real(rho[:,0,1]), 'm--', np.imag(rho[:,0,1]), 'k')\n",
    "\n",
    "#Plot dipole moment + Energy N_ensemble = 1\n",
    "plt.figure()\n",
    "plt.title('Temperature bath, N = 1')\n",
    "plt.plot(t,np.mean(np.real(dipole1),axis=1))\n",
    "plt.plot(t,np.mean(energy1,axis=1))\n",
    "plt.xlabel('Time (s)')\n",
    "plt.ylim([-1,1])\n",
    "plt.legend(['$\\langle \\psi | X | \\psi \\\\rangle $', 'E/$\\omega$'])\n",
    "plt.savefig('.\\Afbeeldingen\\Boltzmann_1_highT.pdf')\n",
    "\n",
    "#Plot dipole moment + Energy N_ensemble = 1000\n",
    "plt.figure()\n",
    "plt.title('Temperature bath, N = 1000')\n",
    "plt.plot(t,np.mean(np.real(dipole1000),axis=1))\n",
    "plt.plot(t,np.mean(energy1000,axis=1))\n",
    "plt.xlabel('Time (s)')\n",
    "plt.ylim([-1,1])\n",
    "plt.legend(['$\\langle \\psi | X | \\psi \\\\rangle $', 'E/$\\omega$'])\n",
    "plt.savefig('.\\Afbeeldingen\\Boltzmann_1000_highT.pdf')"
   ]
  },
  {
   "cell_type": "markdown",
   "metadata": {
    "collapsed": true
   },
   "source": [
    "## Multiple jumps (Three level system)"
   ]
  },
  {
   "cell_type": "markdown",
   "metadata": {},
   "source": [
    "### Time-dependent pulse"
   ]
  },
  {
   "cell_type": "code",
   "execution_count": 4,
   "metadata": {
    "collapsed": false
   },
   "outputs": [],
   "source": [
    "def Pi_pulse(time_vector, index_start, index_end, omega):\n",
    "    \"\"\"Given a time vector and an index for the start and end of the pulse, \n",
    "       return a Gaussian pi pulse (envelope,length: 6 sigma) with driving frequency omega\n",
    "       to drive the system\"\"\"\n",
    "    \n",
    "    t_start = time_vector[index_start]\n",
    "    t_end = time_vector[index_end]\n",
    "    t_center = (t_end + t_start)/2\n",
    "    sigma = (t_start - t_end) / 6\n",
    "\n",
    "    #Make empty pulse array\n",
    "    pulse = np.zeros(len(time_vector))\n",
    "    \n",
    "    B = np.exp(-(t_end - t_center)**2 / (2 * sigma**2))\n",
    "    #In this way, the gaussian starts and ends at zero \n",
    "    \n",
    "    #Amplitude for pi pulse\n",
    "    A = np.pi*(sigma*np.sqrt(2*np.pi) - (t_end - t_start)*B)**(-1)\n",
    "    pulse[index_start:index_end] = (A * np.exp(-(time_vector[index_start:index_end] - t_center)**2 / (2 \n",
    "                                    * sigma**2)) - A*B)*np.cos(omega*time_vector[index_start:index_end])\n",
    "    return pulse"
   ]
  },
  {
   "cell_type": "code",
   "execution_count": 19,
   "metadata": {
    "collapsed": false
   },
   "outputs": [],
   "source": [
    "def two_level_driving(pulse, omega = 1, gamma = 0.01, Nt = 1000, dt = 0.01, Ns = 1):\n",
    "    \"\"\"Calculate the density matrix of each step in time, when the system is driven \n",
    "       with a single (EM) pulse. Plot the energy and dipole moment\"\"\"\n",
    "    \n",
    "    if len(pulse) != Nt:\n",
    "        print('The pulse does not have the correct length')\n",
    "        \n",
    "    t = np.linspace(0,Nt*dt,Nt)\n",
    "\n",
    "    # Initalize wavefunction\n",
    "    psi = np.zeros((Nt,Ns,2),dtype = complex)\n",
    "    #psi[0,:,:] = 2 ** (-.5) * np.ones((Ns,2))\n",
    "    psi[0,:,0] = np.ones((1,Ns))\n",
    "    rho = np.zeros((Nt,2,2),dtype = complex)\n",
    "\n",
    "    #Define X operator\n",
    "    X = np.array([[0,1], [1,0]], dtype = complex)\n",
    "    H0 = np.array([[0, 0],\n",
    "                  [0, omega]], dtype=complex)\n",
    "    \n",
    "    for i in range(Nt-1):\n",
    "        #Define hamiltonian at this timestep\n",
    "        \n",
    "        Heff = ham = np.array([[0, pulse[i]],\n",
    "                              [pulse[i], 0]], dtype=complex) + H0\n",
    "        Ueff = linalg.expm(- 1j * dt * Heff)\n",
    "        \n",
    "        dp = gamma * dt * np.absolute(psi[i,:,1]) ** 2\n",
    "        e = np.random.uniform(0,1,(Ns))\n",
    "\n",
    "        trans = np.where(e < dp)\n",
    "        no_trans = np.where(e >= dp)\n",
    "\n",
    "        # Transition to ground state\n",
    "        psi[i+1,trans,:] = [1, 0]\n",
    "\n",
    "        #evolution\n",
    "        psi[i+1,no_trans,:] = np.einsum('ij,...j', Ueff, psi[i,no_trans,:])\n",
    "        # Normalize\n",
    "        psi[i+1,no_trans,0] /= linalg.norm(psi[i+1,no_trans,:], axis = 2)\n",
    "        psi[i+1,no_trans,1] /= linalg.norm(psi[i+1,no_trans,:], axis = 2)\n",
    "        \n",
    "\n",
    "    #Calculate dipole moment and energy\n",
    "    dipole = np.einsum('...i,ij,...j', np.conj(psi), X, psi)\n",
    "    energy = np.einsum('...i,ij,...j', np.conj(psi), H0, psi)/omega\n",
    "    rho[:,0,0] = np.mean(np.conj(psi[:,:,0])*psi[:,:,0],axis = 1)\n",
    "    rho[:,0,1] = np.mean(np.conj(psi[:,:,0])*psi[:,:,1],axis = 1)\n",
    "    rho[:,1,0] = np.mean(np.conj(psi[:,:,1])*psi[:,:,0],axis = 1)\n",
    "    rho[:,1,1] = np.mean(np.conj(psi[:,:,1])*psi[:,:,1],axis = 1)\n",
    "    \n",
    "    #Plot dipole moment and energy\n",
    "    plt.figure()\n",
    "    plt.plot(t,np.mean(energy,axis=1))\n",
    "    plt.figure()\n",
    "    plt.plot(t, np.mean(dipole, axis = 1))\n",
    "    return rho"
   ]
  },
  {
   "cell_type": "markdown",
   "metadata": {
    "collapsed": true
   },
   "source": [
    "### Three level system"
   ]
  },
  {
   "cell_type": "code",
   "execution_count": 30,
   "metadata": {
    "collapsed": true
   },
   "outputs": [],
   "source": [
    "def three_level_driving(pulseD, pulseP, omegaD = 1, omegaP = 2, gammaP = 0.1, Nt = 1000, dt = 0.01, \n",
    "                        Ns = 1):\n",
    "    \"\"\"Plot the occupancy of each of the three levels at each step in time, when the system is driven \n",
    "       with two pulses\"\"\"\n",
    "    \n",
    "    #Different couplings for the different transisitions which can be  driven.\n",
    "    gammaD = 10**-3 * gammaP\n",
    "    if len(pulseD) != Nt:\n",
    "        print('The pulseD does not have the correct length')\n",
    "    if len(pulseP) != Nt:\n",
    "        print('The pulseP does not have the correct length')\n",
    "        \n",
    "    t = np.linspace(0,Nt*dt,Nt)\n",
    "    Ntrans = np.zeros((Nt))\n",
    "\n",
    "    # Initalize wavefunction\n",
    "    psi = np.zeros((Nt,Ns,3), dtype = complex)\n",
    "    \n",
    "    #Start in S-state\n",
    "    psi[0,:,1] = np.ones((1,Ns))\n",
    "\n",
    "    #Define X operator\n",
    "    H0 = np.array([[0,0,0], \n",
    "                  [0, omegaD - 1j * gammaD / 2, 0],\n",
    "                  [0, 0, omegaP - 1j * gammaP / 2]], dtype = complex)\n",
    "    pulse = pulseD+pulseP\n",
    "    \n",
    "    for i in range(Nt-1):\n",
    "        \n",
    "        #Define hamiltonian at this timestep\n",
    "        Heff =  np.array([[0, pulse[i], pulse[i]],\n",
    "                         [pulse[i], 0, 0],\n",
    "                         [pulse[i], 0, 0]], dtype=complex) + H0\n",
    "        Ueff = linalg.expm(- 1j * dt * Heff)\n",
    "        \n",
    "        dpD = gammaD * dt * np.absolute(psi[i,:,1]) ** 2 \n",
    "        dpP = gammaP * dt * np.absolute(psi[i,:,2]) ** 2\n",
    "        dp = dpD + dpP\n",
    "        e = np.random.uniform(0,1,(Ns))\n",
    "        \n",
    "        # Randomly choose which transition is made (if e < dp)\n",
    "        e2 = np.random.uniform(0,1,(Ns))\n",
    "        \n",
    "        transD = np.where(np.logical_and(e < dp, dpD/dp > e2))\n",
    "        transP = np.where(np.logical_and(e < dp, dpD/dp <= e2))\n",
    "        no_trans = np.where(e >= dp)\n",
    "        \n",
    "        psi[i+1,transD,:] = [1, 0, 0]\n",
    "        psi[i+1,transP,:] = [1, 0, 0]\n",
    "        \n",
    "        Ntrans[i] = len(transP[0])\n",
    "        \n",
    "        # Non unitary evolution\n",
    "        psi[i+1,no_trans,:] = np.einsum('ij,...j', Ueff, psi[i,no_trans,:])\n",
    "        # Normalize\n",
    "        psi[i+1,no_trans,0] /= linalg.norm(psi[i+1,no_trans,:], axis = 2)\n",
    "        psi[i+1,no_trans,1] /= linalg.norm(psi[i+1,no_trans,:], axis = 2)\n",
    "        psi[i+1,no_trans,2] /= linalg.norm(psi[i+1,no_trans,:], axis = 2)\n",
    "\n",
    "    \n",
    "    #dipole = np.einsum('...i,ij,...j', np.conj(psi), X, psi)\n",
    "    energy = np.einsum('...i,ij,...j', np.conj(psi), H0, psi)\n",
    "    plt.figure()\n",
    "    plt.plot(t,energy)\n",
    "    \n",
    "    #Plot occupation of each level\n",
    "    plt.figure()\n",
    "    plt.plot(t,np.mean(abs(psi[:,:,0])**2, axis = 1))\n",
    "    plt.plot(t,np.mean(abs(psi[:,:,1])**2, axis = 1))\n",
    "    plt.plot(t,np.mean(abs(psi[:,:,2])**2, axis = 1))\n",
    "    plt.legend(['S', 'D', 'P'])\n",
    "    \n",
    "    plt.figure()\n",
    "    plt.plot(t, Ntrans)\n",
    "    "
   ]
  },
  {
   "cell_type": "markdown",
   "metadata": {},
   "source": [
    "### Simulation and plotting"
   ]
  },
  {
   "cell_type": "code",
   "execution_count": 32,
   "metadata": {
    "collapsed": false
   },
   "outputs": [
    {
     "name": "stderr",
     "output_type": "stream",
     "text": [
      "C:\\Anaconda3\\lib\\site-packages\\ipykernel\\__main__.py:41: RuntimeWarning: invalid value encountered in true_divide\n",
      "C:\\Anaconda3\\lib\\site-packages\\ipykernel\\__main__.py:41: RuntimeWarning: invalid value encountered in greater\n",
      "C:\\Anaconda3\\lib\\site-packages\\ipykernel\\__main__.py:42: RuntimeWarning: invalid value encountered in true_divide\n",
      "C:\\Anaconda3\\lib\\site-packages\\ipykernel\\__main__.py:42: RuntimeWarning: invalid value encountered in less_equal\n",
      "C:\\Anaconda3\\lib\\site-packages\\numpy\\core\\numeric.py:474: ComplexWarning: Casting complex values to real discards the imaginary part\n",
      "  return array(a, dtype, copy=False, order=order)\n"
     ]
    },
    {
     "name": "stdout",
     "output_type": "stream",
     "text": [
      "747.3951332569122\n"
     ]
    },
    {
     "name": "stderr",
     "output_type": "stream",
     "text": [
      "C:\\Anaconda3\\lib\\site-packages\\matplotlib\\figure.py:1744: UserWarning: This figure includes Axes that are not compatible with tight_layout, so its results might be incorrect.\n",
      "  warnings.warn(\"This figure includes Axes that are not \"\n"
     ]
    },
    {
     "data": {
      "image/png": "[encoded data removed]",
      "text/plain": [
       "<matplotlib.figure.Figure at 0x1a728f97860>"
      ]
     },
     "metadata": {},
     "output_type": "display_data"
    },
    {
     "data": {
      "image/png": "[encoded data removed]",
      "text/plain": [
       "<matplotlib.figure.Figure at 0x1a728e3a7b8>"
      ]
     },
     "metadata": {},
     "output_type": "display_data"
    },
    {
     "data": {
      "image/png": "[encoded data removed]",
      "text/plain": [
       "<matplotlib.figure.Figure at 0x1a728fbdb38>"
      ]
     },
     "metadata": {},
     "output_type": "display_data"
    }
   ],
   "source": [
    "t_program = time.time()\n",
    "\n",
    "dt = 0.01\n",
    "Nt = 1000000\n",
    "omegaP = 20\n",
    "omegaD = 10\n",
    "index_start = 10000\n",
    "index_end = 10100\n",
    "time_vector = np.linspace(0,Nt*dt,Nt)\n",
    "#pulseD = Pi_pulse(time_vector, index_start, index_end, omegaD)\n",
    "# pulseD = 0.3* np.sin(time_vector*omegaD)\n",
    "pulseD = np.zeros((Nt))\n",
    "pulseP = np.sin(time_vector*omegaP)\n",
    "three_level_driving(pulseD, pulseP, omegaD, omegaP, gammaP = 0.1, Nt = Nt, dt = dt, Ns = 1)\n",
    "\n",
    "elapsed = time.time() - t_program\n",
    "print(elapsed)"
   ]
  }
 ],
 "metadata": {
  "kernelspec": {
   "display_name": "Python 3",
   "language": "python",
   "name": "python3"
  },
  "language_info": {
   "codemirror_mode": {
    "name": "ipython",
    "version": 3
   },
   "file_extension": ".py",
   "mimetype": "text/x-python",
   "name": "python",
   "nbconvert_exporter": "python",
   "pygments_lexer": "ipython3",
   "version": "3.5.1"
  }
 },
 "nbformat": 4,
 "nbformat_minor": 0
}
